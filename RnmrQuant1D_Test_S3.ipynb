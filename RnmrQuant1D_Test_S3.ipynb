{
  "nbformat": 4,
  "nbformat_minor": 0,
  "metadata": {
    "colab": {
      "provenance": [],
      "authorship_tag": "ABX9TyMnynfT7bF2OSdNqEibB4qJ",
      "include_colab_link": true
    },
    "kernelspec": {
      "name": "ir",
      "display_name": "R"
    },
    "language_info": {
      "name": "R"
    }
  },
  "cells": [
    {
      "cell_type": "markdown",
      "metadata": {
        "id": "view-in-github",
        "colab_type": "text"
      },
      "source": [
        "<a href=\"https://colab.research.google.com/github/djacob65/JNBrq1d/blob/main/RnmrQuant1D_Test_S3.ipynb\" target=\"_parent\"><img src=\"https://colab.research.google.com/assets/colab-badge.svg\" alt=\"Open In Colab\"/></a>"
      ]
    },
    {
      "cell_type": "code",
      "execution_count": null,
      "metadata": {
        "colab": {
          "base_uri": "https://localhost:8080/",
          "height": 1000
        },
        "id": "cTvKHuOPeyu4",
        "outputId": "d83ba58b-0f6e-4a48-fe43-630a554ea9e5",
        "collapsed": true
      },
      "outputs": [
        {
          "output_type": "stream",
          "name": "stderr",
          "text": [
            "Installing package into ‘/usr/local/lib/R/site-library’\n",
            "(as ‘lib’ is unspecified)\n",
            "\n",
            "'getOption(\"repos\")' replaces Bioconductor standard repositories, see\n",
            "'help(\"repositories\", package = \"BiocManager\")' for details.\n",
            "Replacement repositories:\n",
            "    CRAN: https://cran.rstudio.com\n",
            "\n",
            "Bioconductor version 3.20 (BiocManager 1.30.25), R 4.4.3 (2025-02-28)\n",
            "\n",
            "Installing package(s) 'BiocVersion', 'impute', 'MassSpecWavelet'\n",
            "\n",
            "Old packages: 'lattice', 'mgcv', 'xfun'\n",
            "\n",
            "Loading required package: devtools\n",
            "\n",
            "Loading required package: usethis\n",
            "\n",
            "Downloading GitHub repo INRA/Rnmr1D@HEAD\n",
            "\n"
          ]
        },
        {
          "output_type": "stream",
          "name": "stdout",
          "text": [
            "xfun         (0.51 -> 0.52     ) [CRAN]\n",
            "lazyeval     (NA   -> 0.2.2    ) [CRAN]\n",
            "RcppArmad... (NA   -> 14.4.1-1 ) [CRAN]\n",
            "iterators    (NA   -> 1.0.14   ) [CRAN]\n",
            "crosstalk    (NA   -> 1.2.1    ) [CRAN]\n",
            "RcppDE       (NA   -> 0.1.8    ) [CRAN]\n",
            "foreach      (NA   -> 1.5.2    ) [CRAN]\n",
            "minqa        (NA   -> 1.2.8    ) [CRAN]\n",
            "plyr         (NA   -> 1.8.9    ) [CRAN]\n",
            "plotly       (NA   -> 4.10.4   ) [CRAN]\n",
            "XML          (NA   -> 3.99-0.18) [CRAN]\n",
            "signal       (NA   -> 1.8-1    ) [CRAN]\n",
            "ptw          (NA   -> 1.9-16   ) [CRAN]\n",
            "igraph       (NA   -> 2.1.4    ) [CRAN]\n",
            "doParallel   (NA   -> 1.0.17   ) [CRAN]\n"
          ]
        },
        {
          "output_type": "stream",
          "name": "stderr",
          "text": [
            "Skipping 2 packages not available: MassSpecWavelet, impute\n",
            "\n",
            "Installing 15 packages: xfun, lazyeval, RcppArmadillo, iterators, crosstalk, RcppDE, foreach, minqa, plyr, plotly, XML, signal, ptw, igraph, doParallel\n",
            "\n",
            "Installing packages into ‘/usr/local/lib/R/site-library’\n",
            "(as ‘lib’ is unspecified)\n",
            "\n"
          ]
        },
        {
          "output_type": "stream",
          "name": "stdout",
          "text": [
            "\u001b[36m──\u001b[39m \u001b[36mR CMD build\u001b[39m \u001b[36m─────────────────────────────────────────────────────────────────\u001b[39m\n",
            "* checking for file ‘/tmp/RtmpwsSzXz/remotes1504668b17/INRA-Rnmr1D-0fbe133/DESCRIPTION’ ... OK\n",
            "* preparing ‘Rnmr1D’:\n",
            "* checking DESCRIPTION meta-information ... OK\n",
            "* cleaning src\n",
            "* checking for LF line-endings in source and make files and shell scripts\n",
            "* checking for empty or unneeded directories\n",
            "* building ‘Rnmr1D_1.6.0.tar.gz’\n",
            "\n"
          ]
        },
        {
          "output_type": "stream",
          "name": "stderr",
          "text": [
            "Installing package into ‘/usr/local/lib/R/site-library’\n",
            "(as ‘lib’ is unspecified)\n",
            "\n",
            "Downloading GitHub repo djacob65/RnmrQuant1D@HEAD\n",
            "\n"
          ]
        },
        {
          "output_type": "stream",
          "name": "stdout",
          "text": [
            "AsioHeaders (NA -> 1.22.1-2) [CRAN]\n",
            "websocket   (NA -> 1.4.2   ) [CRAN]\n",
            "chromote    (NA -> 0.5.0   ) [CRAN]\n",
            "webshot2    (NA -> 0.1.1   ) [CRAN]\n",
            "openxlsx    (NA -> 4.2.8   ) [CRAN]\n",
            "DT          (NA -> 0.33    ) [CRAN]\n"
          ]
        },
        {
          "output_type": "stream",
          "name": "stderr",
          "text": [
            "Skipping 2 packages not available: MassSpecWavelet, impute\n",
            "\n",
            "Installing 6 packages: AsioHeaders, websocket, chromote, webshot2, openxlsx, DT\n",
            "\n",
            "Installing packages into ‘/usr/local/lib/R/site-library’\n",
            "(as ‘lib’ is unspecified)\n",
            "\n"
          ]
        },
        {
          "output_type": "stream",
          "name": "stdout",
          "text": [
            "\u001b[36m──\u001b[39m \u001b[36mR CMD build\u001b[39m \u001b[36m─────────────────────────────────────────────────────────────────\u001b[39m\n",
            "* checking for file ‘/tmp/RtmpwsSzXz/remotes150793e6d75/djacob65-RnmrQuant1D-7516bea/DESCRIPTION’ ... OK\n",
            "* preparing ‘RnmrQuant1D’:\n",
            "* checking DESCRIPTION meta-information ... OK\n",
            "* checking for LF line-endings in source and make files and shell scripts\n",
            "* checking for empty or unneeded directories\n",
            "* building ‘RnmrQuant1D_1.0.4.tar.gz’\n",
            "\n"
          ]
        },
        {
          "output_type": "stream",
          "name": "stderr",
          "text": [
            "Installing package into ‘/usr/local/lib/R/site-library’\n",
            "(as ‘lib’ is unspecified)\n",
            "\n"
          ]
        },
        {
          "output_type": "display_data",
          "data": {
            "text/plain": [
              "   user  system elapsed \n",
              "520.577  51.881 597.526 "
            ]
          },
          "metadata": {}
        }
      ],
      "source": [
        "t <- system.time({\n",
        "  if (!require(\"BiocManager\", quietly = TRUE)) install.packages(\"BiocManager\")\n",
        "  BiocManager::install(c(\"impute\",\"MassSpecWavelet\"))\n",
        "\n",
        "  if (!require(\"devtools\")) install.packages(\"devtools\")\n",
        "  devtools::install_github(\"INRA/Rnmr1D\", dependencies = TRUE)\n",
        "\n",
        "  devtools::install_github(\"djacob65/RnmrQuant1D\", dependencies = TRUE)\n",
        "})\n",
        "t"
      ]
    },
    {
      "cell_type": "code",
      "source": [
        "library(RnmrQuant1D)\n",
        "\n",
        "# Create a new RnmrQuant1D instance\n",
        "rq1d <- RnmrQuant1D$new()\n",
        "\n",
        "# NMR sequence\n",
        "rq1d$SEQUENCE <- 'noesy'\n",
        "rq1d$FIELD <- 500\n",
        "rq1d$TYPE <- 'Red'\n",
        "\n",
        "# Path of the Samples/ QC-QS spectra directory\n",
        "system(\"gdown --id 1JhIZOx6Q8kvtAKQCM4_G6KDb2MwU5ls1\")\n",
        "unzip(zipfile=\"S3-AA5.zip\", exdir=\".\")\n",
        "rq1d$RAWDIR <- rq1d$QSDIR <- '/content/S3-AA5'\n",
        "\n",
        "# Read the sample file\n",
        "# Must contain at least 4 columns, namely Spectrum, Samplecode, EXPNO and F_dilution\n",
        "system(\"gdown --id 1iaW5IY1SAF5hUgJVXwElSujKdsZXT_qJ\")\n",
        "rq1d$SAMPLES <- utils::read.table('samples-S3.txt', sep=\"\\t\", header=T,stringsAsFactors=FALSE)\n",
        "rq1d$check_samples(verbose=TRUE)\n",
        "\n",
        "# Read the quantification profile\n",
        "system(\"gdown --id 14NQoo2RDI_8GcwLIKmy3kYd3eWbkKpX8\")\n",
        "rq1d$PROFILE <- rq1d$readProfile('profile-AJdos-S3-Red-noesy-500.txt')\n",
        "rq1d$check_profile(verbose=TRUE)\n",
        "\n",
        "# Read the calibration profile\n",
        "system(\"gdown --id 1LC3LKEgN9GkAe1KWrkK3GzCgqcIOFuuX\")\n",
        "STDS_FILE <- 'standards-QC-QS.txt'\n",
        "rq1d$CALIBRATION <- data.frame(read.table(STDS_FILE, header=T, sep=\"\\t\", dec=\".\", stringsAsFactors=F))\n",
        "\n",
        "# QC & QS names\n",
        "QSname <- 'GLBBI_RB_AJdos-S3-b_QR20'\n",
        "QCname <- 'GLBBI_RB_AJdos-S3-b_QC20'\n",
        "\n",
        "# Check if all input data are OK\n",
        "rq1d$check_calibration(QCname, QSname, verbose=TRUE)"
      ],
      "metadata": {
        "colab": {
          "base_uri": "https://localhost:8080/"
        },
        "id": "F-FLvEOzo5kT",
        "outputId": "adfcc353-0819-40c8-e59f-2f70521c36ab"
      },
      "execution_count": null,
      "outputs": [
        {
          "output_type": "stream",
          "name": "stdout",
          "text": [
            "OK: /content/S3-AA5 contains some Bruker spectra acquired with a noesy sequence\n",
            "OK: all spectra reported in the sample table appear to match a spectrum under /content/S3-AA5\n",
            "OK: the sample table has at least 4 columns with one named 'F_dilution'\n",
            "OK: the quantification profile format seems correct\n",
            "OK: /content/S3-AA5 contains some Bruker spectra acquired with a noesy sequence\n",
            "OK: the standard profile format seems correct\n",
            "OK: some spectra under /content/S3-AA5 correspond to GLBBI_RB_AJdos-S3-b_QC20\n",
            "OK: some spectra under /content/S3-AA5 correspond to GLBBI_RB_AJdos-S3-b_QR20\n"
          ]
        }
      ]
    },
    {
      "cell_type": "code",
      "source": [
        "cat(\"PULCON Factor for QS\\n\")\n",
        "QS <- rq1d$get_response_factors(rq1d$QStype, QSname, thresfP=6, deconv=TRUE, verbose=1)\n",
        "cat(\"\\n\"); rq1d$get_factor_table(QS)\n",
        "cat(\"\\n\"); print(QS$fPUL)"
      ],
      "metadata": {
        "colab": {
          "base_uri": "https://localhost:8080/",
          "height": 366
        },
        "id": "f2ViPpoWudkn",
        "outputId": "93de04dc-ae60-47c0-c980-2b2712c182f8"
      },
      "execution_count": null,
      "outputs": [
        {
          "output_type": "stream",
          "name": "stdout",
          "text": [
            "PULCON Factor for QS\n",
            "GLBBI_RB_AJdos-S3-b_QR20 / noesy ...\n",
            "\n"
          ]
        },
        {
          "output_type": "display_data",
          "data": {
            "text/html": [
              "<table class=\"dataframe\">\n",
              "<caption>A matrix: 4 × 5 of type dbl</caption>\n",
              "<thead>\n",
              "\t<tr><th></th><th scope=col>DMMA</th><th scope=col>Citrate1</th><th scope=col>Citrate2</th><th scope=col>Mean</th><th scope=col>CV%</th></tr>\n",
              "</thead>\n",
              "<tbody>\n",
              "\t<tr><th scope=row>2</th><td>111761.6</td><td>104320.5</td><td>116487.8</td><td>110856.7</td><td>5.533213</td></tr>\n",
              "\t<tr><th scope=row>4</th><td>111879.9</td><td>105310.7</td><td>116648.2</td><td>111279.6</td><td>5.115528</td></tr>\n",
              "\t<tr><th scope=row>6</th><td>110802.9</td><td>103674.8</td><td>115598.5</td><td>110025.4</td><td>5.453047</td></tr>\n",
              "\t<tr><th scope=row>8</th><td>109463.9</td><td>102340.1</td><td>115032.2</td><td>108945.4</td><td>5.839509</td></tr>\n",
              "</tbody>\n",
              "</table>\n"
            ],
            "text/markdown": "\nA matrix: 4 × 5 of type dbl\n\n| <!--/--> | DMMA | Citrate1 | Citrate2 | Mean | CV% |\n|---|---|---|---|---|---|\n| 2 | 111761.6 | 104320.5 | 116487.8 | 110856.7 | 5.533213 |\n| 4 | 111879.9 | 105310.7 | 116648.2 | 111279.6 | 5.115528 |\n| 6 | 110802.9 | 103674.8 | 115598.5 | 110025.4 | 5.453047 |\n| 8 | 109463.9 | 102340.1 | 115032.2 | 108945.4 | 5.839509 |\n\n",
            "text/latex": "A matrix: 4 × 5 of type dbl\n\\begin{tabular}{r|lllll}\n  & DMMA & Citrate1 & Citrate2 & Mean & CV\\%\\\\\n\\hline\n\t2 & 111761.6 & 104320.5 & 116487.8 & 110856.7 & 5.533213\\\\\n\t4 & 111879.9 & 105310.7 & 116648.2 & 111279.6 & 5.115528\\\\\n\t6 & 110802.9 & 103674.8 & 115598.5 & 110025.4 & 5.453047\\\\\n\t8 & 109463.9 & 102340.1 & 115032.2 & 108945.4 & 5.839509\\\\\n\\end{tabular}\n",
            "text/plain": [
              "  DMMA     Citrate1 Citrate2 Mean     CV%     \n",
              "2 111761.6 104320.5 116487.8 110856.7 5.533213\n",
              "4 111879.9 105310.7 116648.2 111279.6 5.115528\n",
              "6 110802.9 103674.8 115598.5 110025.4 5.453047\n",
              "8 109463.9 102340.1 115032.2 108945.4 5.839509"
            ]
          },
          "metadata": {}
        },
        {
          "output_type": "stream",
          "name": "stdout",
          "text": [
            "\n",
            "$mean\n",
            "[1] 110276.8\n",
            "\n",
            "$CV\n",
            "[1] 0.93\n",
            "\n"
          ]
        }
      ]
    },
    {
      "cell_type": "code",
      "source": [
        "cat(\"PULCON Factor for QC\\n\")\n",
        "QC <- rq1d$get_response_factors(rq1d$QCtype, QCname, thresfP=6, deconv=TRUE, verbose=1)\n",
        "cat(\"\\n\"); rq1d$get_factor_table(QC)\n",
        "cat(\"\\n\"); print(QC$fPUL)"
      ],
      "metadata": {
        "colab": {
          "base_uri": "https://localhost:8080/",
          "height": 272
        },
        "id": "Bc3g-q4RxtVK",
        "outputId": "8f7f3058-b57e-4467-b08f-7692b4df6a16"
      },
      "execution_count": null,
      "outputs": [
        {
          "output_type": "stream",
          "name": "stdout",
          "text": [
            "PULCON Factor for QC\n",
            "GLBBI_RB_AJdos-S3-b_QC20 / noesy ...\n",
            "\n"
          ]
        },
        {
          "output_type": "display_data",
          "data": {
            "text/html": [
              "<table class=\"dataframe\">\n",
              "<caption>A matrix: 1 × 6 of type dbl</caption>\n",
              "<thead>\n",
              "\t<tr><th></th><th scope=col>DMMA</th><th scope=col>Succinate</th><th scope=col>Citrate1</th><th scope=col>Citrate2</th><th scope=col>Mean</th><th scope=col>CV%</th></tr>\n",
              "</thead>\n",
              "<tbody>\n",
              "\t<tr><th scope=row>2</th><td>110894.7</td><td>110697</td><td>102248.6</td><td>116819.8</td><td>110165</td><td>5.440585</td></tr>\n",
              "</tbody>\n",
              "</table>\n"
            ],
            "text/markdown": "\nA matrix: 1 × 6 of type dbl\n\n| <!--/--> | DMMA | Succinate | Citrate1 | Citrate2 | Mean | CV% |\n|---|---|---|---|---|---|---|\n| 2 | 110894.7 | 110697 | 102248.6 | 116819.8 | 110165 | 5.440585 |\n\n",
            "text/latex": "A matrix: 1 × 6 of type dbl\n\\begin{tabular}{r|llllll}\n  & DMMA & Succinate & Citrate1 & Citrate2 & Mean & CV\\%\\\\\n\\hline\n\t2 & 110894.7 & 110697 & 102248.6 & 116819.8 & 110165 & 5.440585\\\\\n\\end{tabular}\n",
            "text/plain": [
              "  DMMA     Succinate Citrate1 Citrate2 Mean   CV%     \n",
              "2 110894.7 110697    102248.6 116819.8 110165 5.440585"
            ]
          },
          "metadata": {}
        },
        {
          "output_type": "stream",
          "name": "stdout",
          "text": [
            "\n",
            "$mean\n",
            "[1] 110165\n",
            "\n",
            "$CV\n",
            "[1] NA\n",
            "\n"
          ]
        }
      ]
    },
    {
      "cell_type": "code",
      "source": [
        "QC_tab <- rq1d$get_QC_estimation(QC, QS)\n",
        "Yest = lm(data=as.data.frame(QC_tab), Estimated~Real)\n",
        "cat ('Rate =',round(coef(Yest)[2],4), ', Intercept =',round(coef(Yest)[1],4),\"\\n\")\n",
        "\n",
        "# Display the estimation table\n",
        "cat(\"\\n\"); QC_tab"
      ],
      "metadata": {
        "colab": {
          "base_uri": "https://localhost:8080/",
          "height": 230
        },
        "id": "YJ5nYroVxz5E",
        "outputId": "dc654e47-3b3a-42f6-ba01-456b245251c2"
      },
      "execution_count": null,
      "outputs": [
        {
          "output_type": "stream",
          "name": "stdout",
          "text": [
            "Quality Control for noesy sequence\n",
            "R-squared = 0.992 \n",
            "Rate = 0.9898 , Intercept = 0.0112 \n",
            "\n"
          ]
        },
        {
          "output_type": "display_data",
          "data": {
            "text/html": [
              "<table class=\"dataframe\">\n",
              "<caption>A matrix: 3 × 3 of type dbl</caption>\n",
              "<thead>\n",
              "\t<tr><th></th><th scope=col>Real</th><th scope=col>Estimated</th><th scope=col>%Diff</th></tr>\n",
              "</thead>\n",
              "<tbody>\n",
              "\t<tr><th scope=row>DMMA</th><td>0.9883735</td><td>0.9939116</td><td> 0.560</td></tr>\n",
              "\t<tr><th scope=row>Succinate</th><td>0.5369463</td><td>0.5389923</td><td> 0.380</td></tr>\n",
              "\t<tr><th scope=row>Citrate</th><td>2.9715078</td><td>2.9514980</td><td>-0.675</td></tr>\n",
              "</tbody>\n",
              "</table>\n"
            ],
            "text/markdown": "\nA matrix: 3 × 3 of type dbl\n\n| <!--/--> | Real | Estimated | %Diff |\n|---|---|---|---|\n| DMMA | 0.9883735 | 0.9939116 |  0.560 |\n| Succinate | 0.5369463 | 0.5389923 |  0.380 |\n| Citrate | 2.9715078 | 2.9514980 | -0.675 |\n\n",
            "text/latex": "A matrix: 3 × 3 of type dbl\n\\begin{tabular}{r|lll}\n  & Real & Estimated & \\%Diff\\\\\n\\hline\n\tDMMA & 0.9883735 & 0.9939116 &  0.560\\\\\n\tSuccinate & 0.5369463 & 0.5389923 &  0.380\\\\\n\tCitrate & 2.9715078 & 2.9514980 & -0.675\\\\\n\\end{tabular}\n",
            "text/plain": [
              "          Real      Estimated %Diff \n",
              "DMMA      0.9883735 0.9939116  0.560\n",
              "Succinate 0.5369463 0.5389923  0.380\n",
              "Citrate   2.9715078 2.9514980 -0.675"
            ]
          },
          "metadata": {}
        }
      ]
    },
    {
      "cell_type": "code",
      "source": [
        "pattern <- '-(1c|10)'\n",
        "if (!is.null(pattern)) samples <- rq1d$SAMPLES[grep(pattern=pattern, rq1d$SAMPLES[,1], value=FALSE), ]\n",
        "samples\n",
        "cat('Nb samples =',nrow(samples),\"\\n\")\n",
        "rq1d$SAMPLES <- samples"
      ],
      "metadata": {
        "colab": {
          "base_uri": "https://localhost:8080/",
          "height": 304
        },
        "id": "1X7Kmdv2eS5_",
        "outputId": "03264e11-0a94-45cf-b52f-494fdd814a9a"
      },
      "execution_count": null,
      "outputs": [
        {
          "output_type": "display_data",
          "data": {
            "text/html": [
              "<table class=\"dataframe\">\n",
              "<caption>A data.frame: 6 × 6</caption>\n",
              "<thead>\n",
              "\t<tr><th></th><th scope=col>Spectrum</th><th scope=col>Samplecode</th><th scope=col>EXPNO</th><th scope=col>PROCNO</th><th scope=col>PULSE</th><th scope=col>F_dilution</th></tr>\n",
              "\t<tr><th></th><th scope=col>&lt;chr&gt;</th><th scope=col>&lt;chr&gt;</th><th scope=col>&lt;int&gt;</th><th scope=col>&lt;int&gt;</th><th scope=col>&lt;chr&gt;</th><th scope=col>&lt;dbl&gt;</th></tr>\n",
              "</thead>\n",
              "<tbody>\n",
              "\t<tr><th scope=row>1</th><td>GLBBI_RB_AJdos-S3_AA5-10</td><td>GLBBI_RB_AJdos-S3_AA5-10-2</td><td>2</td><td>0</td><td>noesy</td><td>0.7996002</td></tr>\n",
              "\t<tr><th scope=row>2</th><td>GLBBI_RB_AJdos-S3_AA5-10</td><td>GLBBI_RB_AJdos-S3_AA5-10-4</td><td>4</td><td>0</td><td>noesy</td><td>0.7996002</td></tr>\n",
              "\t<tr><th scope=row>3</th><td>GLBBI_RB_AJdos-S3_AA5-10</td><td>GLBBI_RB_AJdos-S3_AA5-10-6</td><td>6</td><td>0</td><td>noesy</td><td>0.7996002</td></tr>\n",
              "\t<tr><th scope=row>13</th><td>GLBBI_RB_AJdos-S3_AA5-1c</td><td>GLBBI_RB_AJdos-S3_AA5-1c-2</td><td>2</td><td>0</td><td>noesy</td><td>0.7984895</td></tr>\n",
              "\t<tr><th scope=row>14</th><td>GLBBI_RB_AJdos-S3_AA5-1c</td><td>GLBBI_RB_AJdos-S3_AA5-1c-4</td><td>4</td><td>0</td><td>noesy</td><td>0.7984895</td></tr>\n",
              "\t<tr><th scope=row>15</th><td>GLBBI_RB_AJdos-S3_AA5-1c</td><td>GLBBI_RB_AJdos-S3_AA5-1c-6</td><td>6</td><td>0</td><td>noesy</td><td>0.7984895</td></tr>\n",
              "</tbody>\n",
              "</table>\n"
            ],
            "text/markdown": "\nA data.frame: 6 × 6\n\n| <!--/--> | Spectrum &lt;chr&gt; | Samplecode &lt;chr&gt; | EXPNO &lt;int&gt; | PROCNO &lt;int&gt; | PULSE &lt;chr&gt; | F_dilution &lt;dbl&gt; |\n|---|---|---|---|---|---|---|\n| 1 | GLBBI_RB_AJdos-S3_AA5-10 | GLBBI_RB_AJdos-S3_AA5-10-2 | 2 | 0 | noesy | 0.7996002 |\n| 2 | GLBBI_RB_AJdos-S3_AA5-10 | GLBBI_RB_AJdos-S3_AA5-10-4 | 4 | 0 | noesy | 0.7996002 |\n| 3 | GLBBI_RB_AJdos-S3_AA5-10 | GLBBI_RB_AJdos-S3_AA5-10-6 | 6 | 0 | noesy | 0.7996002 |\n| 13 | GLBBI_RB_AJdos-S3_AA5-1c | GLBBI_RB_AJdos-S3_AA5-1c-2 | 2 | 0 | noesy | 0.7984895 |\n| 14 | GLBBI_RB_AJdos-S3_AA5-1c | GLBBI_RB_AJdos-S3_AA5-1c-4 | 4 | 0 | noesy | 0.7984895 |\n| 15 | GLBBI_RB_AJdos-S3_AA5-1c | GLBBI_RB_AJdos-S3_AA5-1c-6 | 6 | 0 | noesy | 0.7984895 |\n\n",
            "text/latex": "A data.frame: 6 × 6\n\\begin{tabular}{r|llllll}\n  & Spectrum & Samplecode & EXPNO & PROCNO & PULSE & F\\_dilution\\\\\n  & <chr> & <chr> & <int> & <int> & <chr> & <dbl>\\\\\n\\hline\n\t1 & GLBBI\\_RB\\_AJdos-S3\\_AA5-10 & GLBBI\\_RB\\_AJdos-S3\\_AA5-10-2 & 2 & 0 & noesy & 0.7996002\\\\\n\t2 & GLBBI\\_RB\\_AJdos-S3\\_AA5-10 & GLBBI\\_RB\\_AJdos-S3\\_AA5-10-4 & 4 & 0 & noesy & 0.7996002\\\\\n\t3 & GLBBI\\_RB\\_AJdos-S3\\_AA5-10 & GLBBI\\_RB\\_AJdos-S3\\_AA5-10-6 & 6 & 0 & noesy & 0.7996002\\\\\n\t13 & GLBBI\\_RB\\_AJdos-S3\\_AA5-1c & GLBBI\\_RB\\_AJdos-S3\\_AA5-1c-2 & 2 & 0 & noesy & 0.7984895\\\\\n\t14 & GLBBI\\_RB\\_AJdos-S3\\_AA5-1c & GLBBI\\_RB\\_AJdos-S3\\_AA5-1c-4 & 4 & 0 & noesy & 0.7984895\\\\\n\t15 & GLBBI\\_RB\\_AJdos-S3\\_AA5-1c & GLBBI\\_RB\\_AJdos-S3\\_AA5-1c-6 & 6 & 0 & noesy & 0.7984895\\\\\n\\end{tabular}\n",
            "text/plain": [
              "   Spectrum                 Samplecode                 EXPNO PROCNO PULSE\n",
              "1  GLBBI_RB_AJdos-S3_AA5-10 GLBBI_RB_AJdos-S3_AA5-10-2 2     0      noesy\n",
              "2  GLBBI_RB_AJdos-S3_AA5-10 GLBBI_RB_AJdos-S3_AA5-10-4 4     0      noesy\n",
              "3  GLBBI_RB_AJdos-S3_AA5-10 GLBBI_RB_AJdos-S3_AA5-10-6 6     0      noesy\n",
              "13 GLBBI_RB_AJdos-S3_AA5-1c GLBBI_RB_AJdos-S3_AA5-1c-2 2     0      noesy\n",
              "14 GLBBI_RB_AJdos-S3_AA5-1c GLBBI_RB_AJdos-S3_AA5-1c-4 4     0      noesy\n",
              "15 GLBBI_RB_AJdos-S3_AA5-1c GLBBI_RB_AJdos-S3_AA5-1c-6 6     0      noesy\n",
              "   F_dilution\n",
              "1  0.7996002 \n",
              "2  0.7996002 \n",
              "3  0.7996002 \n",
              "13 0.7984895 \n",
              "14 0.7984895 \n",
              "15 0.7984895 "
            ]
          },
          "metadata": {}
        },
        {
          "output_type": "stream",
          "name": "stdout",
          "text": [
            "Nb samples = 6 \n"
          ]
        }
      ]
    },
    {
      "cell_type": "code",
      "source": [
        "rq1d$TMPDIR <- '/content/tmp'\n",
        "if (! dir.exists(rq1d$TMPDIR) ) dir.create(rq1d$TMPDIR, showWarnings = FALSE)\n",
        "\n",
        "zones <- 2\n",
        "NCPU <- 6\n",
        "t <- system.time({ rq1d$proc_Integrals(zones, ncpu=NCPU, verbose=2) })\n",
        "t"
      ],
      "metadata": {
        "colab": {
          "base_uri": "https://localhost:8080/",
          "height": 52
        },
        "id": "BxaPVpskYjjh",
        "outputId": "523dda9c-1a94-4629-b541-cc46aee41d84"
      },
      "execution_count": null,
      "outputs": [
        {
          "output_type": "display_data",
          "data": {
            "text/plain": [
              "   user  system elapsed \n",
              "  0.554   0.226  15.822 "
            ]
          },
          "metadata": {}
        }
      ]
    },
    {
      "cell_type": "code",
      "source": [
        "INT <- rq1d$get_Matrix_Integrals()\n",
        "cat(\"Integration:\\n\"); round(INT)\n",
        "\n",
        "SNR <- rq1d$get_Matrix_SNR()\n",
        "cat(\"SNR:\\n\"); round(SNR)"
      ],
      "metadata": {
        "colab": {
          "base_uri": "https://localhost:8080/",
          "height": 527
        },
        "id": "O9fhi1vxaH4g",
        "outputId": "636364ad-0291-4bd0-9d2b-7ead586cec95"
      },
      "execution_count": null,
      "outputs": [
        {
          "output_type": "stream",
          "name": "stdout",
          "text": [
            "Integration:\n"
          ]
        },
        {
          "output_type": "display_data",
          "data": {
            "text/html": [
              "<table class=\"dataframe\">\n",
              "<caption>A matrix: 6 × 1 of type dbl</caption>\n",
              "<thead>\n",
              "\t<tr><th></th><th scope=col>threonine</th></tr>\n",
              "</thead>\n",
              "<tbody>\n",
              "\t<tr><th scope=row>GLBBI_RB_AJdos-S3_AA5-10-2</th><td>436543</td></tr>\n",
              "\t<tr><th scope=row>GLBBI_RB_AJdos-S3_AA5-10-4</th><td>442163</td></tr>\n",
              "\t<tr><th scope=row>GLBBI_RB_AJdos-S3_AA5-10-6</th><td>426550</td></tr>\n",
              "\t<tr><th scope=row>GLBBI_RB_AJdos-S3_AA5-1c-2</th><td> 49472</td></tr>\n",
              "\t<tr><th scope=row>GLBBI_RB_AJdos-S3_AA5-1c-4</th><td> 43856</td></tr>\n",
              "\t<tr><th scope=row>GLBBI_RB_AJdos-S3_AA5-1c-6</th><td> 47006</td></tr>\n",
              "</tbody>\n",
              "</table>\n"
            ],
            "text/markdown": "\nA matrix: 6 × 1 of type dbl\n\n| <!--/--> | threonine |\n|---|---|\n| GLBBI_RB_AJdos-S3_AA5-10-2 | 436543 |\n| GLBBI_RB_AJdos-S3_AA5-10-4 | 442163 |\n| GLBBI_RB_AJdos-S3_AA5-10-6 | 426550 |\n| GLBBI_RB_AJdos-S3_AA5-1c-2 |  49472 |\n| GLBBI_RB_AJdos-S3_AA5-1c-4 |  43856 |\n| GLBBI_RB_AJdos-S3_AA5-1c-6 |  47006 |\n\n",
            "text/latex": "A matrix: 6 × 1 of type dbl\n\\begin{tabular}{r|l}\n  & threonine\\\\\n\\hline\n\tGLBBI\\_RB\\_AJdos-S3\\_AA5-10-2 & 436543\\\\\n\tGLBBI\\_RB\\_AJdos-S3\\_AA5-10-4 & 442163\\\\\n\tGLBBI\\_RB\\_AJdos-S3\\_AA5-10-6 & 426550\\\\\n\tGLBBI\\_RB\\_AJdos-S3\\_AA5-1c-2 &  49472\\\\\n\tGLBBI\\_RB\\_AJdos-S3\\_AA5-1c-4 &  43856\\\\\n\tGLBBI\\_RB\\_AJdos-S3\\_AA5-1c-6 &  47006\\\\\n\\end{tabular}\n",
            "text/plain": [
              "                           threonine\n",
              "GLBBI_RB_AJdos-S3_AA5-10-2 436543   \n",
              "GLBBI_RB_AJdos-S3_AA5-10-4 442163   \n",
              "GLBBI_RB_AJdos-S3_AA5-10-6 426550   \n",
              "GLBBI_RB_AJdos-S3_AA5-1c-2  49472   \n",
              "GLBBI_RB_AJdos-S3_AA5-1c-4  43856   \n",
              "GLBBI_RB_AJdos-S3_AA5-1c-6  47006   "
            ]
          },
          "metadata": {}
        },
        {
          "output_type": "stream",
          "name": "stdout",
          "text": [
            "SNR:\n"
          ]
        },
        {
          "output_type": "display_data",
          "data": {
            "text/html": [
              "<table class=\"dataframe\">\n",
              "<caption>A matrix: 6 × 1 of type dbl</caption>\n",
              "<thead>\n",
              "\t<tr><th></th><th scope=col>threonine</th></tr>\n",
              "</thead>\n",
              "<tbody>\n",
              "\t<tr><th scope=row>GLBBI_RB_AJdos-S3_AA5-10-2</th><td>254</td></tr>\n",
              "\t<tr><th scope=row>GLBBI_RB_AJdos-S3_AA5-10-4</th><td>245</td></tr>\n",
              "\t<tr><th scope=row>GLBBI_RB_AJdos-S3_AA5-10-6</th><td>237</td></tr>\n",
              "\t<tr><th scope=row>GLBBI_RB_AJdos-S3_AA5-1c-2</th><td> 33</td></tr>\n",
              "\t<tr><th scope=row>GLBBI_RB_AJdos-S3_AA5-1c-4</th><td> 32</td></tr>\n",
              "\t<tr><th scope=row>GLBBI_RB_AJdos-S3_AA5-1c-6</th><td> 32</td></tr>\n",
              "</tbody>\n",
              "</table>\n"
            ],
            "text/markdown": "\nA matrix: 6 × 1 of type dbl\n\n| <!--/--> | threonine |\n|---|---|\n| GLBBI_RB_AJdos-S3_AA5-10-2 | 254 |\n| GLBBI_RB_AJdos-S3_AA5-10-4 | 245 |\n| GLBBI_RB_AJdos-S3_AA5-10-6 | 237 |\n| GLBBI_RB_AJdos-S3_AA5-1c-2 |  33 |\n| GLBBI_RB_AJdos-S3_AA5-1c-4 |  32 |\n| GLBBI_RB_AJdos-S3_AA5-1c-6 |  32 |\n\n",
            "text/latex": "A matrix: 6 × 1 of type dbl\n\\begin{tabular}{r|l}\n  & threonine\\\\\n\\hline\n\tGLBBI\\_RB\\_AJdos-S3\\_AA5-10-2 & 254\\\\\n\tGLBBI\\_RB\\_AJdos-S3\\_AA5-10-4 & 245\\\\\n\tGLBBI\\_RB\\_AJdos-S3\\_AA5-10-6 & 237\\\\\n\tGLBBI\\_RB\\_AJdos-S3\\_AA5-1c-2 &  33\\\\\n\tGLBBI\\_RB\\_AJdos-S3\\_AA5-1c-4 &  32\\\\\n\tGLBBI\\_RB\\_AJdos-S3\\_AA5-1c-6 &  32\\\\\n\\end{tabular}\n",
            "text/plain": [
              "                           threonine\n",
              "GLBBI_RB_AJdos-S3_AA5-10-2 254      \n",
              "GLBBI_RB_AJdos-S3_AA5-10-4 245      \n",
              "GLBBI_RB_AJdos-S3_AA5-10-6 237      \n",
              "GLBBI_RB_AJdos-S3_AA5-1c-2  33      \n",
              "GLBBI_RB_AJdos-S3_AA5-1c-4  32      \n",
              "GLBBI_RB_AJdos-S3_AA5-1c-6  32      "
            ]
          },
          "metadata": {}
        }
      ]
    },
    {
      "cell_type": "code",
      "source": [
        ".Platform"
      ],
      "metadata": {
        "colab": {
          "base_uri": "https://localhost:8080/",
          "height": 323
        },
        "id": "-jiVpVupaWjP",
        "outputId": "fce76bd2-e3bf-4ddb-e12e-46290fed5c44"
      },
      "execution_count": null,
      "outputs": [
        {
          "output_type": "display_data",
          "data": {
            "text/html": [
              "<dl>\n",
              "\t<dt>$OS.type</dt>\n",
              "\t\t<dd>'unix'</dd>\n",
              "\t<dt>$file.sep</dt>\n",
              "\t\t<dd>'/'</dd>\n",
              "\t<dt>$dynlib.ext</dt>\n",
              "\t\t<dd>'.so'</dd>\n",
              "\t<dt>$GUI</dt>\n",
              "\t\t<dd>'X11'</dd>\n",
              "\t<dt>$endian</dt>\n",
              "\t\t<dd>'little'</dd>\n",
              "\t<dt>$pkgType</dt>\n",
              "\t\t<dd>'source'</dd>\n",
              "\t<dt>$path.sep</dt>\n",
              "\t\t<dd>':'</dd>\n",
              "\t<dt>$r_arch</dt>\n",
              "\t\t<dd>''</dd>\n",
              "</dl>\n"
            ],
            "text/markdown": "$OS.type\n:   'unix'\n$file.sep\n:   '/'\n$dynlib.ext\n:   '.so'\n$GUI\n:   'X11'\n$endian\n:   'little'\n$pkgType\n:   'source'\n$path.sep\n:   ':'\n$r_arch\n:   ''\n\n\n",
            "text/latex": "\\begin{description}\n\\item[\\$OS.type] 'unix'\n\\item[\\$file.sep] '/'\n\\item[\\$dynlib.ext] '.so'\n\\item[\\$GUI] 'X11'\n\\item[\\$endian] 'little'\n\\item[\\$pkgType] 'source'\n\\item[\\$path.sep] ':'\n\\item[\\$r\\_arch] ''\n\\end{description}\n",
            "text/plain": [
              "$OS.type\n",
              "[1] \"unix\"\n",
              "\n",
              "$file.sep\n",
              "[1] \"/\"\n",
              "\n",
              "$dynlib.ext\n",
              "[1] \".so\"\n",
              "\n",
              "$GUI\n",
              "[1] \"X11\"\n",
              "\n",
              "$endian\n",
              "[1] \"little\"\n",
              "\n",
              "$pkgType\n",
              "[1] \"source\"\n",
              "\n",
              "$path.sep\n",
              "[1] \":\"\n",
              "\n",
              "$r_arch\n",
              "[1] \"\"\n"
            ]
          },
          "metadata": {}
        }
      ]
    },
    {
      "cell_type": "code",
      "source": [
        "sessionInfo()"
      ],
      "metadata": {
        "colab": {
          "base_uri": "https://localhost:8080/",
          "height": 989
        },
        "id": "NtHrVcXcahBz",
        "outputId": "2ac1016a-d5cd-4b05-db87-3f7bbff1e9ae"
      },
      "execution_count": null,
      "outputs": [
        {
          "output_type": "display_data",
          "data": {
            "text/plain": [
              "R version 4.4.3 (2025-02-28)\n",
              "Platform: x86_64-pc-linux-gnu\n",
              "Running under: Ubuntu 22.04.4 LTS\n",
              "\n",
              "Matrix products: default\n",
              "BLAS:   /usr/lib/x86_64-linux-gnu/openblas-pthread/libblas.so.3 \n",
              "LAPACK: /usr/lib/x86_64-linux-gnu/openblas-pthread/libopenblasp-r0.3.20.so;  LAPACK version 3.10.0\n",
              "\n",
              "locale:\n",
              " [1] LC_CTYPE=en_US.UTF-8       LC_NUMERIC=C              \n",
              " [3] LC_TIME=en_US.UTF-8        LC_COLLATE=en_US.UTF-8    \n",
              " [5] LC_MONETARY=en_US.UTF-8    LC_MESSAGES=en_US.UTF-8   \n",
              " [7] LC_PAPER=en_US.UTF-8       LC_NAME=C                 \n",
              " [9] LC_ADDRESS=C               LC_TELEPHONE=C            \n",
              "[11] LC_MEASUREMENT=en_US.UTF-8 LC_IDENTIFICATION=C       \n",
              "\n",
              "time zone: Etc/UTC\n",
              "tzcode source: system (glibc)\n",
              "\n",
              "attached base packages:\n",
              "[1] stats     graphics  grDevices utils     datasets  methods   base     \n",
              "\n",
              "other attached packages:\n",
              "[1] Rnmr1D_1.6.0      RnmrQuant1D_1.0.4 devtools_2.4.5    usethis_3.1.0    \n",
              "\n",
              "loaded via a namespace (and not attached):\n",
              " [1] tidyselect_1.2.1    viridisLite_0.4.2   IRdisplay_1.1      \n",
              " [4] dplyr_1.1.4         fastmap_1.2.0       lazyeval_0.2.2     \n",
              " [7] webshot2_0.1.1      promises_1.3.2      XML_3.99-0.18      \n",
              "[10] digest_0.6.37       mime_0.13           lifecycle_1.0.4    \n",
              "[13] ellipsis_0.3.2      ptw_1.9-16          processx_3.8.6     \n",
              "[16] magrittr_2.0.3      compiler_4.4.3      sass_0.4.9         \n",
              "[19] rlang_1.1.5         tools_4.4.3         igraph_2.1.4       \n",
              "[22] data.table_1.17.0   htmlwidgets_1.6.4   pkgbuild_1.4.7     \n",
              "[25] curl_6.2.2          repr_1.1.7          pkgload_1.4.0      \n",
              "[28] websocket_1.4.2     miniUI_0.1.1.1      pbdZMQ_0.3-13      \n",
              "[31] purrr_1.0.4         desc_1.4.3          grid_4.4.3         \n",
              "[34] urlchecker_1.0.1    profvis_0.4.0       xtable_1.8-4       \n",
              "[37] colorspace_2.1-1    ggplot2_3.5.1       scales_1.3.0       \n",
              "[40] iterators_1.0.14    MASS_7.3-65         signal_1.8-1       \n",
              "[43] cli_3.6.4           crayon_1.5.3        generics_0.1.3     \n",
              "[46] remotes_2.5.0       RcppDE_0.1.8        httr_1.4.7         \n",
              "[49] sessioninfo_1.2.3   minqa_1.2.8         cachem_1.1.0       \n",
              "[52] chromote_0.5.0      parallel_4.4.3      BiocManager_1.30.25\n",
              "[55] base64enc_0.1-3     vctrs_0.6.5         Matrix_1.7-3       \n",
              "[58] jsonlite_2.0.0      callr_3.7.6         crosstalk_1.2.1    \n",
              "[61] foreach_1.5.2       plotly_4.10.4       jquerylib_0.1.4    \n",
              "[64] tidyr_1.3.1         glue_1.8.0          codetools_0.2-20   \n",
              "[67] ps_1.9.0            DT_0.33             stringi_1.8.7      \n",
              "[70] gtable_0.3.6        later_1.4.1         munsell_0.5.1      \n",
              "[73] tibble_3.2.1        pillar_1.10.1       htmltools_0.5.8.1  \n",
              "[76] IRkernel_1.3.2      R6_2.6.1            doParallel_1.0.17  \n",
              "[79] evaluate_1.0.3      shiny_1.10.0        lattice_0.22-6     \n",
              "[82] openxlsx_4.2.8      memoise_2.0.1       bslib_0.9.0        \n",
              "[85] httpuv_1.6.15       Rcpp_1.0.14         zip_2.3.2          \n",
              "[88] uuid_1.2-1          fs_1.6.5            pkgconfig_2.0.3    "
            ]
          },
          "metadata": {}
        }
      ]
    }
  ]
}