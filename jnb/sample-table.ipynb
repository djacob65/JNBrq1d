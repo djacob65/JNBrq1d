{
 "cells": [
  {
   "cell_type": "code",
   "execution_count": 1,
   "id": "d7aa9db6-68c0-4bb5-a3b1-83dbdaca491d",
   "metadata": {},
   "outputs": [
    {
     "data": {
      "text/plain": [
       "utilisateur     système      écoulé \n",
       "       0.00        0.00        0.01 "
      ]
     },
     "metadata": {},
     "output_type": "display_data"
    },
    {
     "name": "stdout",
     "output_type": "stream",
     "text": [
      "\n",
      "\n"
     ]
    },
    {
     "data": {
      "text/html": [
       "<table class=\"dataframe\">\n",
       "<caption>A matrix: 5 × 2 of type chr</caption>\n",
       "<thead>\n",
       "\t<tr><th></th><th scope=col>Samplecode</th><th scope=col>fdil</th></tr>\n",
       "</thead>\n",
       "<tbody>\n",
       "\t<tr><th scope=row>196</th><td>GLBBI_RB_AJdos-S13_AA5-1m</td><td>0.7815807</td></tr>\n",
       "\t<tr><th scope=row>197</th><td>GLBBI_RB_AJdos-S13_AA5-50</td><td>0.7795815</td></tr>\n",
       "\t<tr><th scope=row>198</th><td>GLBBI_RB_AJdos-S13_AA5-51</td><td>0.7802277</td></tr>\n",
       "\t<tr><th scope=row>199</th><td>GLBBI_RB_AJdos-S13_AA5-52</td><td>0.7807862</td></tr>\n",
       "\t<tr><th scope=row>200</th><td>GLBBI_RB_AJdos-S13_AA5-53</td><td>0.7810657</td></tr>\n",
       "</tbody>\n",
       "</table>\n"
      ],
      "text/latex": [
       "A matrix: 5 × 2 of type chr\n",
       "\\begin{tabular}{r|ll}\n",
       "  & Samplecode & fdil\\\\\n",
       "\\hline\n",
       "\t196 & GLBBI\\_RB\\_AJdos-S13\\_AA5-1m & 0.7815807\\\\\n",
       "\t197 & GLBBI\\_RB\\_AJdos-S13\\_AA5-50 & 0.7795815\\\\\n",
       "\t198 & GLBBI\\_RB\\_AJdos-S13\\_AA5-51 & 0.7802277\\\\\n",
       "\t199 & GLBBI\\_RB\\_AJdos-S13\\_AA5-52 & 0.7807862\\\\\n",
       "\t200 & GLBBI\\_RB\\_AJdos-S13\\_AA5-53 & 0.7810657\\\\\n",
       "\\end{tabular}\n"
      ],
      "text/markdown": [
       "\n",
       "A matrix: 5 × 2 of type chr\n",
       "\n",
       "| <!--/--> | Samplecode | fdil |\n",
       "|---|---|---|\n",
       "| 196 | GLBBI_RB_AJdos-S13_AA5-1m | 0.7815807 |\n",
       "| 197 | GLBBI_RB_AJdos-S13_AA5-50 | 0.7795815 |\n",
       "| 198 | GLBBI_RB_AJdos-S13_AA5-51 | 0.7802277 |\n",
       "| 199 | GLBBI_RB_AJdos-S13_AA5-52 | 0.7807862 |\n",
       "| 200 | GLBBI_RB_AJdos-S13_AA5-53 | 0.7810657 |\n",
       "\n"
      ],
      "text/plain": [
       "    Samplecode                fdil     \n",
       "196 GLBBI_RB_AJdos-S13_AA5-1m 0.7815807\n",
       "197 GLBBI_RB_AJdos-S13_AA5-50 0.7795815\n",
       "198 GLBBI_RB_AJdos-S13_AA5-51 0.7802277\n",
       "199 GLBBI_RB_AJdos-S13_AA5-52 0.7807862\n",
       "200 GLBBI_RB_AJdos-S13_AA5-53 0.7810657"
      ]
     },
     "metadata": {},
     "output_type": "display_data"
    },
    {
     "data": {
      "text/html": [
       "<table class=\"dataframe\">\n",
       "<caption>A matrix: 15 × 6 of type chr</caption>\n",
       "<thead>\n",
       "\t<tr><th></th><th scope=col>Spectrum</th><th scope=col>Samplecode</th><th scope=col>EXPNO</th><th scope=col>PROCNO</th><th scope=col>PULSE</th><th scope=col>F_dilution</th></tr>\n",
       "</thead>\n",
       "<tbody>\n",
       "\t<tr><th scope=row>1</th><td>GLBBI_RB_AJdos-S13_AA5-1m</td><td>GLBBI_RB_AJdos-S13_AA5-1m-2</td><td>2</td><td>0</td><td>noesy</td><td>0.781580747</td></tr>\n",
       "\t<tr><th scope=row>2</th><td>GLBBI_RB_AJdos-S13_AA5-1m</td><td>GLBBI_RB_AJdos-S13_AA5-1m-4</td><td>4</td><td>0</td><td>noesy</td><td>0.781580747</td></tr>\n",
       "\t<tr><th scope=row>3</th><td>GLBBI_RB_AJdos-S13_AA5-1m</td><td>GLBBI_RB_AJdos-S13_AA5-1m-6</td><td>6</td><td>0</td><td>noesy</td><td>0.781580747</td></tr>\n",
       "\t<tr><th scope=row>4</th><td>GLBBI_RB_AJdos-S13_AA5-50</td><td>GLBBI_RB_AJdos-S13_AA5-50-2</td><td>2</td><td>0</td><td>noesy</td><td>0.779581462</td></tr>\n",
       "\t<tr><th scope=row>5</th><td>GLBBI_RB_AJdos-S13_AA5-50</td><td>GLBBI_RB_AJdos-S13_AA5-50-4</td><td>4</td><td>0</td><td>noesy</td><td>0.779581462</td></tr>\n",
       "\t<tr><th scope=row>6</th><td>GLBBI_RB_AJdos-S13_AA5-50</td><td>GLBBI_RB_AJdos-S13_AA5-50-6</td><td>6</td><td>0</td><td>noesy</td><td>0.779581462</td></tr>\n",
       "\t<tr><th scope=row>7</th><td>GLBBI_RB_AJdos-S13_AA5-51</td><td>GLBBI_RB_AJdos-S13_AA5-51-2</td><td>2</td><td>0</td><td>noesy</td><td>0.780227729</td></tr>\n",
       "\t<tr><th scope=row>8</th><td>GLBBI_RB_AJdos-S13_AA5-51</td><td>GLBBI_RB_AJdos-S13_AA5-51-4</td><td>4</td><td>0</td><td>noesy</td><td>0.780227729</td></tr>\n",
       "\t<tr><th scope=row>9</th><td>GLBBI_RB_AJdos-S13_AA5-51</td><td>GLBBI_RB_AJdos-S13_AA5-51-6</td><td>6</td><td>0</td><td>noesy</td><td>0.780227729</td></tr>\n",
       "\t<tr><th scope=row>10</th><td>GLBBI_RB_AJdos-S13_AA5-52</td><td>GLBBI_RB_AJdos-S13_AA5-52-2</td><td>2</td><td>0</td><td>noesy</td><td>0.780786154</td></tr>\n",
       "\t<tr><th scope=row>11</th><td>GLBBI_RB_AJdos-S13_AA5-52</td><td>GLBBI_RB_AJdos-S13_AA5-52-4</td><td>4</td><td>0</td><td>noesy</td><td>0.780786154</td></tr>\n",
       "\t<tr><th scope=row>12</th><td>GLBBI_RB_AJdos-S13_AA5-52</td><td>GLBBI_RB_AJdos-S13_AA5-52-6</td><td>6</td><td>0</td><td>noesy</td><td>0.780786154</td></tr>\n",
       "\t<tr><th scope=row>13</th><td>GLBBI_RB_AJdos-S13_AA5-53</td><td>GLBBI_RB_AJdos-S13_AA5-53-2</td><td>2</td><td>0</td><td>noesy</td><td>0.781065666</td></tr>\n",
       "\t<tr><th scope=row>14</th><td>GLBBI_RB_AJdos-S13_AA5-53</td><td>GLBBI_RB_AJdos-S13_AA5-53-4</td><td>4</td><td>0</td><td>noesy</td><td>0.781065666</td></tr>\n",
       "\t<tr><th scope=row>15</th><td>GLBBI_RB_AJdos-S13_AA5-53</td><td>GLBBI_RB_AJdos-S13_AA5-53-6</td><td>6</td><td>0</td><td>noesy</td><td>0.781065666</td></tr>\n",
       "</tbody>\n",
       "</table>\n"
      ],
      "text/latex": [
       "A matrix: 15 × 6 of type chr\n",
       "\\begin{tabular}{r|llllll}\n",
       "  & Spectrum & Samplecode & EXPNO & PROCNO & PULSE & F\\_dilution\\\\\n",
       "\\hline\n",
       "\t1 & GLBBI\\_RB\\_AJdos-S13\\_AA5-1m & GLBBI\\_RB\\_AJdos-S13\\_AA5-1m-2 & 2 & 0 & noesy & 0.781580747\\\\\n",
       "\t2 & GLBBI\\_RB\\_AJdos-S13\\_AA5-1m & GLBBI\\_RB\\_AJdos-S13\\_AA5-1m-4 & 4 & 0 & noesy & 0.781580747\\\\\n",
       "\t3 & GLBBI\\_RB\\_AJdos-S13\\_AA5-1m & GLBBI\\_RB\\_AJdos-S13\\_AA5-1m-6 & 6 & 0 & noesy & 0.781580747\\\\\n",
       "\t4 & GLBBI\\_RB\\_AJdos-S13\\_AA5-50 & GLBBI\\_RB\\_AJdos-S13\\_AA5-50-2 & 2 & 0 & noesy & 0.779581462\\\\\n",
       "\t5 & GLBBI\\_RB\\_AJdos-S13\\_AA5-50 & GLBBI\\_RB\\_AJdos-S13\\_AA5-50-4 & 4 & 0 & noesy & 0.779581462\\\\\n",
       "\t6 & GLBBI\\_RB\\_AJdos-S13\\_AA5-50 & GLBBI\\_RB\\_AJdos-S13\\_AA5-50-6 & 6 & 0 & noesy & 0.779581462\\\\\n",
       "\t7 & GLBBI\\_RB\\_AJdos-S13\\_AA5-51 & GLBBI\\_RB\\_AJdos-S13\\_AA5-51-2 & 2 & 0 & noesy & 0.780227729\\\\\n",
       "\t8 & GLBBI\\_RB\\_AJdos-S13\\_AA5-51 & GLBBI\\_RB\\_AJdos-S13\\_AA5-51-4 & 4 & 0 & noesy & 0.780227729\\\\\n",
       "\t9 & GLBBI\\_RB\\_AJdos-S13\\_AA5-51 & GLBBI\\_RB\\_AJdos-S13\\_AA5-51-6 & 6 & 0 & noesy & 0.780227729\\\\\n",
       "\t10 & GLBBI\\_RB\\_AJdos-S13\\_AA5-52 & GLBBI\\_RB\\_AJdos-S13\\_AA5-52-2 & 2 & 0 & noesy & 0.780786154\\\\\n",
       "\t11 & GLBBI\\_RB\\_AJdos-S13\\_AA5-52 & GLBBI\\_RB\\_AJdos-S13\\_AA5-52-4 & 4 & 0 & noesy & 0.780786154\\\\\n",
       "\t12 & GLBBI\\_RB\\_AJdos-S13\\_AA5-52 & GLBBI\\_RB\\_AJdos-S13\\_AA5-52-6 & 6 & 0 & noesy & 0.780786154\\\\\n",
       "\t13 & GLBBI\\_RB\\_AJdos-S13\\_AA5-53 & GLBBI\\_RB\\_AJdos-S13\\_AA5-53-2 & 2 & 0 & noesy & 0.781065666\\\\\n",
       "\t14 & GLBBI\\_RB\\_AJdos-S13\\_AA5-53 & GLBBI\\_RB\\_AJdos-S13\\_AA5-53-4 & 4 & 0 & noesy & 0.781065666\\\\\n",
       "\t15 & GLBBI\\_RB\\_AJdos-S13\\_AA5-53 & GLBBI\\_RB\\_AJdos-S13\\_AA5-53-6 & 6 & 0 & noesy & 0.781065666\\\\\n",
       "\\end{tabular}\n"
      ],
      "text/markdown": [
       "\n",
       "A matrix: 15 × 6 of type chr\n",
       "\n",
       "| <!--/--> | Spectrum | Samplecode | EXPNO | PROCNO | PULSE | F_dilution |\n",
       "|---|---|---|---|---|---|---|\n",
       "| 1 | GLBBI_RB_AJdos-S13_AA5-1m | GLBBI_RB_AJdos-S13_AA5-1m-2 | 2 | 0 | noesy | 0.781580747 |\n",
       "| 2 | GLBBI_RB_AJdos-S13_AA5-1m | GLBBI_RB_AJdos-S13_AA5-1m-4 | 4 | 0 | noesy | 0.781580747 |\n",
       "| 3 | GLBBI_RB_AJdos-S13_AA5-1m | GLBBI_RB_AJdos-S13_AA5-1m-6 | 6 | 0 | noesy | 0.781580747 |\n",
       "| 4 | GLBBI_RB_AJdos-S13_AA5-50 | GLBBI_RB_AJdos-S13_AA5-50-2 | 2 | 0 | noesy | 0.779581462 |\n",
       "| 5 | GLBBI_RB_AJdos-S13_AA5-50 | GLBBI_RB_AJdos-S13_AA5-50-4 | 4 | 0 | noesy | 0.779581462 |\n",
       "| 6 | GLBBI_RB_AJdos-S13_AA5-50 | GLBBI_RB_AJdos-S13_AA5-50-6 | 6 | 0 | noesy | 0.779581462 |\n",
       "| 7 | GLBBI_RB_AJdos-S13_AA5-51 | GLBBI_RB_AJdos-S13_AA5-51-2 | 2 | 0 | noesy | 0.780227729 |\n",
       "| 8 | GLBBI_RB_AJdos-S13_AA5-51 | GLBBI_RB_AJdos-S13_AA5-51-4 | 4 | 0 | noesy | 0.780227729 |\n",
       "| 9 | GLBBI_RB_AJdos-S13_AA5-51 | GLBBI_RB_AJdos-S13_AA5-51-6 | 6 | 0 | noesy | 0.780227729 |\n",
       "| 10 | GLBBI_RB_AJdos-S13_AA5-52 | GLBBI_RB_AJdos-S13_AA5-52-2 | 2 | 0 | noesy | 0.780786154 |\n",
       "| 11 | GLBBI_RB_AJdos-S13_AA5-52 | GLBBI_RB_AJdos-S13_AA5-52-4 | 4 | 0 | noesy | 0.780786154 |\n",
       "| 12 | GLBBI_RB_AJdos-S13_AA5-52 | GLBBI_RB_AJdos-S13_AA5-52-6 | 6 | 0 | noesy | 0.780786154 |\n",
       "| 13 | GLBBI_RB_AJdos-S13_AA5-53 | GLBBI_RB_AJdos-S13_AA5-53-2 | 2 | 0 | noesy | 0.781065666 |\n",
       "| 14 | GLBBI_RB_AJdos-S13_AA5-53 | GLBBI_RB_AJdos-S13_AA5-53-4 | 4 | 0 | noesy | 0.781065666 |\n",
       "| 15 | GLBBI_RB_AJdos-S13_AA5-53 | GLBBI_RB_AJdos-S13_AA5-53-6 | 6 | 0 | noesy | 0.781065666 |\n",
       "\n"
      ],
      "text/plain": [
       "   Spectrum                  Samplecode                  EXPNO PROCNO PULSE\n",
       "1  GLBBI_RB_AJdos-S13_AA5-1m GLBBI_RB_AJdos-S13_AA5-1m-2 2     0      noesy\n",
       "2  GLBBI_RB_AJdos-S13_AA5-1m GLBBI_RB_AJdos-S13_AA5-1m-4 4     0      noesy\n",
       "3  GLBBI_RB_AJdos-S13_AA5-1m GLBBI_RB_AJdos-S13_AA5-1m-6 6     0      noesy\n",
       "4  GLBBI_RB_AJdos-S13_AA5-50 GLBBI_RB_AJdos-S13_AA5-50-2 2     0      noesy\n",
       "5  GLBBI_RB_AJdos-S13_AA5-50 GLBBI_RB_AJdos-S13_AA5-50-4 4     0      noesy\n",
       "6  GLBBI_RB_AJdos-S13_AA5-50 GLBBI_RB_AJdos-S13_AA5-50-6 6     0      noesy\n",
       "7  GLBBI_RB_AJdos-S13_AA5-51 GLBBI_RB_AJdos-S13_AA5-51-2 2     0      noesy\n",
       "8  GLBBI_RB_AJdos-S13_AA5-51 GLBBI_RB_AJdos-S13_AA5-51-4 4     0      noesy\n",
       "9  GLBBI_RB_AJdos-S13_AA5-51 GLBBI_RB_AJdos-S13_AA5-51-6 6     0      noesy\n",
       "10 GLBBI_RB_AJdos-S13_AA5-52 GLBBI_RB_AJdos-S13_AA5-52-2 2     0      noesy\n",
       "11 GLBBI_RB_AJdos-S13_AA5-52 GLBBI_RB_AJdos-S13_AA5-52-4 4     0      noesy\n",
       "12 GLBBI_RB_AJdos-S13_AA5-52 GLBBI_RB_AJdos-S13_AA5-52-6 6     0      noesy\n",
       "13 GLBBI_RB_AJdos-S13_AA5-53 GLBBI_RB_AJdos-S13_AA5-53-2 2     0      noesy\n",
       "14 GLBBI_RB_AJdos-S13_AA5-53 GLBBI_RB_AJdos-S13_AA5-53-4 4     0      noesy\n",
       "15 GLBBI_RB_AJdos-S13_AA5-53 GLBBI_RB_AJdos-S13_AA5-53-6 6     0      noesy\n",
       "   F_dilution \n",
       "1  0.781580747\n",
       "2  0.781580747\n",
       "3  0.781580747\n",
       "4  0.779581462\n",
       "5  0.779581462\n",
       "6  0.779581462\n",
       "7  0.780227729\n",
       "8  0.780227729\n",
       "9  0.780227729\n",
       "10 0.780786154\n",
       "11 0.780786154\n",
       "12 0.780786154\n",
       "13 0.781065666\n",
       "14 0.781065666\n",
       "15 0.781065666"
      ]
     },
     "metadata": {},
     "output_type": "display_data"
    }
   ],
   "source": [
    "suppressMessages(library(RnmrQuant1D))\n",
    "\n",
    "fFDIL <- TRUE\n",
    "delQCQR <- TRUE\n",
    "fSAVE <- TRUE\n",
    "\n",
    "rq1d <- RnmrQuant1D$new()\n",
    "\n",
    "rq1d$RAWDIR <- 'C:/DATA/500_AD/S13-AA5'\n",
    "SAMPLE_FILENAME <- 'C:/DATA/500_AD/samples-S13.txt'\n",
    "FDILFILE  <- 'C:/DATA/500_AD/fdilution_AD-full.txt'\n",
    "\n",
    "t <- system.time({ samples <- rq1d$get_samples_table(sequence='noesy') })\n",
    "t\n",
    "cat(\"\\n\\n\")\n",
    "\n",
    "# Dilution factors - adds a column to the samples table\n",
    "if (fFDIL) {\n",
    "    idcol <- 1 # 1: Spectrumm, 2:Samplecode\n",
    "    fdils <- data.frame(read.table(FDILFILE, header=T, sep=\"\\t\", dec=\".\", stringsAsFactors=F))\n",
    "    fdils <- fdils[fdils[,1] %in% samples[,idcol], ]\n",
    "    samples <- samples[ samples[,idcol] %in% fdils[,1], ]\n",
    "    samples <- cbind(samples, simplify2array(lapply(samples[,idcol], function(s){fdils[which(fdils[,1]==s),2][1]})))\n",
    "    colnames(samples)[ncol(samples)] <- rq1d$FDILfield\n",
    "} else {\n",
    "    samples <- cbind(samples,rep(0,nrow(samples)))\n",
    "    colnames(samples)[ncol(samples)] <- rq1d$fdil_field\n",
    "}\n",
    "as.matrix(fdils)\n",
    "\n",
    "# remove QC,QR if present\n",
    "if (delQCQR)\n",
    "    samples <- samples[!grepl(pattern=\"(QC|QR)\", samples[,1]), ]\n",
    "rownames(samples) <- 1:nrow(samples)\n",
    "    \n",
    "if (fSAVE)\n",
    "    write.table(samples, file = SAMPLE_FILENAME, quote = F, sep = \"\\t\", row.names = FALSE, col.names = TRUE)\n",
    "\n",
    "samples"
   ]
  }
 ],
 "metadata": {
  "kernelspec": {
   "display_name": "R",
   "language": "R",
   "name": "ir"
  },
  "language_info": {
   "codemirror_mode": "r",
   "file_extension": ".r",
   "mimetype": "text/x-r-source",
   "name": "R",
   "pygments_lexer": "r",
   "version": "4.3.1"
  }
 },
 "nbformat": 4,
 "nbformat_minor": 5
}
